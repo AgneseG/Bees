{
 "cells": [
  {
   "cell_type": "code",
   "execution_count": 1,
   "metadata": {},
   "outputs": [
    {
     "name": "stdout",
     "output_type": "stream",
     "text": [
      "Collecting tensorflow==0.12.0 from https://storage.googleapis.com/tensorflow/mac/cpu/tensorflow-0.12.0-py3-none-any.whl\n",
      "  Using cached https://storage.googleapis.com/tensorflow/mac/cpu/tensorflow-0.12.0-py3-none-any.whl\n",
      "Requirement already satisfied, skipping upgrade: six>=1.10.0 in /anaconda3/lib/python3.7/site-packages (from tensorflow==0.12.0) (1.11.0)\n",
      "Requirement already satisfied, skipping upgrade: wheel>=0.26 in /anaconda3/lib/python3.7/site-packages (from tensorflow==0.12.0) (0.31.1)\n",
      "Requirement already satisfied, skipping upgrade: numpy>=1.11.0 in /anaconda3/lib/python3.7/site-packages (from tensorflow==0.12.0) (1.15.1)\n",
      "Requirement already satisfied, skipping upgrade: protobuf==3.1.0 in /anaconda3/lib/python3.7/site-packages (from tensorflow==0.12.0) (3.1.0)\n",
      "Requirement already satisfied, skipping upgrade: setuptools in /anaconda3/lib/python3.7/site-packages (from protobuf==3.1.0->tensorflow==0.12.0) (40.2.0)\n",
      "Installing collected packages: tensorflow\n",
      "  Found existing installation: tensorflow 0.12.0\n",
      "    Uninstalling tensorflow-0.12.0:\n",
      "      Successfully uninstalled tensorflow-0.12.0\n",
      "Successfully installed tensorflow-0.12.0\n"
     ]
    }
   ],
   "source": [
    "!python3 -m pip install --upgrade https://storage.googleapis.com/tensorflow/mac/cpu/tensorflow-0.12.0-py3-none-any.whl"
   ]
  },
  {
   "cell_type": "code",
   "execution_count": 29,
   "metadata": {},
   "outputs": [
    {
     "name": "stdout",
     "output_type": "stream",
     "text": [
      "Collecting keras==2.1.3\n",
      "\u001b[?25l  Downloading https://files.pythonhosted.org/packages/08/ae/7f94a03cb3f74cdc8a0f5f86d1df5c1dd686acb9a9c2a421c64f8497358e/Keras-2.1.3-py2.py3-none-any.whl (319kB)\n",
      "\u001b[K    100% |████████████████████████████████| 327kB 4.5MB/s ta 0:00:01\n",
      "\u001b[?25hRequirement already satisfied, skipping upgrade: six>=1.9.0 in /anaconda3/lib/python3.7/site-packages (from keras==2.1.3) (1.11.0)\n",
      "Requirement already satisfied, skipping upgrade: numpy>=1.9.1 in /anaconda3/lib/python3.7/site-packages (from keras==2.1.3) (1.15.1)\n",
      "Requirement already satisfied, skipping upgrade: scipy>=0.14 in /anaconda3/lib/python3.7/site-packages (from keras==2.1.3) (1.1.0)\n",
      "Requirement already satisfied, skipping upgrade: pyyaml in /anaconda3/lib/python3.7/site-packages (from keras==2.1.3) (3.13)\n",
      "Installing collected packages: keras\n",
      "  Found existing installation: Keras 2.0.8\n",
      "    Uninstalling Keras-2.0.8:\n",
      "      Successfully uninstalled Keras-2.0.8\n",
      "Successfully installed keras-2.1.3\n"
     ]
    }
   ],
   "source": [
    "!pip3 install --upgrade keras==2.1.3"
   ]
  },
  {
   "cell_type": "code",
   "execution_count": 23,
   "metadata": {},
   "outputs": [
    {
     "name": "stdout",
     "output_type": "stream",
     "text": [
      "ERROR: unknown command \"tensorflow\"\r\n"
     ]
    }
   ],
   "source": [
    "!pip tensorflow --update"
   ]
  },
  {
   "cell_type": "code",
   "execution_count": 27,
   "metadata": {},
   "outputs": [
    {
     "name": "stdout",
     "output_type": "stream",
     "text": [
      "0.12.0\n"
     ]
    }
   ],
   "source": [
    "import tensorflow as tf\n",
    "import keras\n",
    "\n",
    "print(tf.VERSION)"
   ]
  },
  {
   "cell_type": "code",
   "execution_count": 45,
   "metadata": {},
   "outputs": [],
   "source": [
    "import os \n",
    "import numpy as np \n",
    "from keras.models import Sequential\n",
    "from keras.layers import Activation, Dense, Flatten, Dropout, Lambda\n",
    "from keras import optimizers\n",
    "from keras.optimizers import Adam, SGD\n",
    "from keras.utils import np_utils\n",
    "from keras.callbacks import EarlyStopping\n",
    "warnings.filterwarnings(\"ignore\", category=UserWarning)"
   ]
  },
  {
   "cell_type": "code",
   "execution_count": 31,
   "metadata": {},
   "outputs": [],
   "source": [
    "import zipfile as zf\n",
    "files = zf.ZipFile(\"bee_imgs.zip\", 'r')\n",
    "files.extractall('/Users/ge/Bee photos/')\n",
    "files.close()"
   ]
  },
  {
   "cell_type": "code",
   "execution_count": 32,
   "metadata": {},
   "outputs": [],
   "source": [
    "import pandas as pd\n",
    "import sys\n",
    "import random\n",
    "import gc\n",
    "import warnings\n",
    "import imageio\n",
    "import skimage\n",
    "import skimage.io\n",
    "import skimage.transform\n",
    "import numpy as np\n",
    "import scipy\n",
    "import matplotlib.pyplot as plt\n",
    "import seaborn as sns\n",
    "from sklearn.model_selection import train_test_split\n",
    "from sklearn.utils import resample\n",
    "from sklearn.preprocessing import OneHotEncoder, LabelEncoder\n",
    "from keras import optimizers\n",
    "from keras.models import Sequential\n",
    "from keras.layers import Dense, Conv2D, Flatten, MaxPool2D, Dropout, BatchNormalization\n",
    "from keras.preprocessing.image import ImageDataGenerator\n",
    "from keras.callbacks import ModelCheckpoint, Callback, EarlyStopping, ReduceLROnPlateau\n",
    "import tensorflow\n",
    "\n",
    "img_folder='/Users/ge/Bee photos/bee_imgs/'\n",
    "img_width=100\n",
    "img_height=100\n",
    "img_channels=3\n",
    "\n",
    "np.random.seed(42)\n",
    "tensorflow.set_random_seed(2)"
   ]
  },
  {
   "cell_type": "code",
   "execution_count": 47,
   "metadata": {},
   "outputs": [],
   "source": [
    "bees=pd.read_csv('/Users/ge/bee_data.csv', \n",
    "                index_col=False,  \n",
    "                parse_dates={'datetime':[1,2]},\n",
    "                dtype={'subspecies':'category', 'health':'category','caste':'category'})\n",
    "\n",
    "def read_or_skip(file):\n",
    "    \"\"\"This function is to supress imageio exception if file doesn't exist\"\"\"\n",
    "    try:\n",
    "        img = skimage.io.imread(img_folder + file)\n",
    "        img = skimage.transform.resize(img, (img_width, img_height), mode='reflect')\n",
    "        return img[:,:,:img_channels]\n",
    "    except:\n",
    "        #print('Skipping %s. %s' %(file, sys.exc_info()[1]))\n",
    "        return None\n",
    "\n",
    "bees['img'] = bees['file'].apply(read_or_skip)\n",
    "bees.dropna(inplace=True)\n",
    "\n",
    "plt.style.use('seaborn')"
   ]
  },
  {
   "cell_type": "code",
   "execution_count": 7,
   "metadata": {},
   "outputs": [
    {
     "data": {
      "image/png": "[encoded data removed]",
      "text/plain": [
       "<Figure size 432x288 with 1 Axes>"
      ]
     },
     "metadata": {
      "needs_background": "light"
     },
     "output_type": "display_data"
    },
    {
     "data": {
      "text/plain": [
       "Italian honey bee        3008\n",
       "Russian honey bee         527\n",
       "Carniolan honey bee       501\n",
       "1 Mixed local stock 2     472\n",
       "-1                        428\n",
       "VSH Italian honey bee     199\n",
       "Western honey bee          37\n",
       "Name: subspecies, dtype: int64"
      ]
     },
     "execution_count": 7,
     "metadata": {},
     "output_type": "execute_result"
    }
   ],
   "source": [
    "bees.subspecies.value_counts().plot.bar(title=\"Subspecies count in dataset\")\n",
    "plt.ylabel(\"Count\")\n",
    "plt.show()\n",
    "bees.subspecies.value_counts()"
   ]
  },
  {
   "cell_type": "code",
   "execution_count": 34,
   "metadata": {},
   "outputs": [
    {
     "data": {
      "image/png": "[encoded data removed]",
      "text/plain": [
       "<Figure size 864x216 with 2 Axes>"
      ]
     },
     "metadata": {
      "needs_background": "light"
     },
     "output_type": "display_data"
    },
    {
     "data": {
      "text/plain": [
       "6513"
      ]
     },
     "execution_count": 34,
     "metadata": {},
     "output_type": "execute_result"
    }
   ],
   "source": [
    "train_bees_unbalanced, test_bees_unbalanced, _train_labels_unbalanced, _test_labels_unbalanced = train_test_split(bees, bees.subspecies)\n",
    "\n",
    "ss_names = train_bees_unbalanced.subspecies.values.unique() \n",
    "ss_num = ss_names.size\n",
    "# Total rows in rebalanced dataset. Can be lower or higher than original data rows.\n",
    "n_samples = bees.size / 2\n",
    "ratio = 0.25\n",
    "\n",
    "# Train/test rows nums\n",
    "test_num = n_samples * ratio\n",
    "train_num = n_samples - test_num\n",
    "\n",
    "# Resample each subspecies category and add to resulting train dataframe\n",
    "train_bees_balanced = pd.DataFrame()\n",
    "test_bees_balanced = pd.DataFrame()\n",
    "for ss in ss_names:\n",
    "    # Resample category in train bees\n",
    "    bees_cur = train_bees_unbalanced[train_bees_unbalanced.subspecies == ss]\n",
    "    bees_cur_resampled = resample(bees_cur, n_samples=int(train_num/ss_num))\n",
    "    train_bees_balanced = pd.concat([train_bees_balanced, bees_cur_resampled])\n",
    "    # Resample category in test bees\n",
    "    bees_cur = test_bees_unbalanced[test_bees_unbalanced.subspecies == ss]\n",
    "    bees_cur_resampled = resample(bees_cur, n_samples=int(test_num/ss_num))\n",
    "    test_bees_balanced = pd.concat([test_bees_balanced, bees_cur_resampled])\n",
    "\n",
    "# 3. Extract features and labels from balanced train, test\n",
    "\n",
    "# Get train features and labels from train rebalanced bees\n",
    "train_labels = pd.get_dummies(train_bees_balanced.subspecies)\n",
    "train_data=np.stack(train_bees_balanced.img)\n",
    "\n",
    "# Get test features and one hot encoded labels from balanced test\n",
    "test_labels = pd.get_dummies(test_bees_balanced.subspecies)\n",
    "test_data = np.stack(test_bees_balanced.img)\n",
    "    \n",
    "\n",
    "# Plot resampled data to check\n",
    "f, ax = plt.subplots(nrows=1, ncols=2, figsize=(12,3))\n",
    "train_bees_balanced.subspecies.value_counts().plot.bar(title =\"Balanced train subspecies\", ax=ax[0])\n",
    "ax[0].set_ylabel(\"Count\")\n",
    "test_bees_balanced.subspecies.value_counts().plot.bar(title =\"Balanced test subspecies\", ax=ax[1])\n",
    "ax[1].set_ylabel(\"Count\")\n",
    "\n",
    "plt.show()\n",
    "\n",
    "gc.collect()"
   ]
  },
  {
   "cell_type": "code",
   "execution_count": 9,
   "metadata": {},
   "outputs": [
    {
     "data": {
      "text/plain": [
       "Index(['datetime', 'file', 'location', 'zip code', 'subspecies', 'health',\n",
       "       'pollen_carrying', 'caste', 'img'],\n",
       "      dtype='object')"
      ]
     },
     "execution_count": 9,
     "metadata": {},
     "output_type": "execute_result"
    }
   ],
   "source": [
    "train_bees_balanced.columns"
   ]
  },
  {
   "cell_type": "code",
   "execution_count": null,
   "metadata": {},
   "outputs": [],
   "source": [
    "del _train_labels_unbalanced\n",
    "del _test_labels_unbalanced\n",
    "\n",
    "del train_bees_unbalanced\n",
    "del test_bees_unbalanced\n",
    "\n",
    "del train_bees_balanced\n",
    "del test_bees_balanced"
   ]
  },
  {
   "cell_type": "code",
   "execution_count": 43,
   "metadata": {},
   "outputs": [],
   "source": [
    "import keras.backend as K\n",
    "\n",
    "def get_categorical_accuracy_keras(y_true, y_pred):\n",
    "    return K.mean(K.equal(K.argmax(y_true, axis=1), K.argmax(y_pred, axis=1)))"
   ]
  },
  {
   "cell_type": "code",
   "execution_count": 44,
   "metadata": {},
   "outputs": [
    {
     "name": "stdout",
     "output_type": "stream",
     "text": [
      "Epoch 1/30\n",
      "100/100 [==============================] - 27s 275ms/step - loss: 1.3695 - get_categorical_accuracy_keras: 0.5441 - val_loss: 0.6367 - val_get_categorical_accuracy_keras: 0.7823\n",
      "\n",
      "Epoch 00001: val_loss improved from inf to 0.63671, saving model to best_model.h5\n",
      "Epoch 2/30\n",
      "100/100 [==============================] - 29s 286ms/step - loss: 0.6501 - get_categorical_accuracy_keras: 0.7774 - val_loss: 1.1781 - val_get_categorical_accuracy_keras: 0.5593\n",
      "\n",
      "Epoch 00002: val_loss did not improve from 0.63671\n",
      "Epoch 3/30\n",
      "100/100 [==============================] - 34s 339ms/step - loss: 0.5293 - get_categorical_accuracy_keras: 0.8181 - val_loss: 0.4044 - val_get_categorical_accuracy_keras: 0.8728\n",
      "\n",
      "Epoch 00003: val_loss improved from 0.63671 to 0.40437, saving model to best_model.h5\n",
      "Epoch 4/30\n",
      "100/100 [==============================] - 30s 295ms/step - loss: 0.4334 - get_categorical_accuracy_keras: 0.8481 - val_loss: 0.4456 - val_get_categorical_accuracy_keras: 0.8308\n",
      "\n",
      "Epoch 00004: val_loss did not improve from 0.40437\n",
      "Epoch 5/30\n",
      "100/100 [==============================] - 27s 271ms/step - loss: 0.3979 - get_categorical_accuracy_keras: 0.8661 - val_loss: 0.3393 - val_get_categorical_accuracy_keras: 0.8879\n",
      "\n",
      "Epoch 00005: val_loss improved from 0.40437 to 0.33932, saving model to best_model.h5\n",
      "Epoch 6/30\n",
      "100/100 [==============================] - 28s 280ms/step - loss: 0.3770 - get_categorical_accuracy_keras: 0.8749 - val_loss: 0.3329 - val_get_categorical_accuracy_keras: 0.8922\n",
      "\n",
      "Epoch 00006: val_loss improved from 0.33932 to 0.33287, saving model to best_model.h5\n",
      "Epoch 7/30\n",
      "100/100 [==============================] - 27s 269ms/step - loss: 0.3235 - get_categorical_accuracy_keras: 0.8878 - val_loss: 0.2871 - val_get_categorical_accuracy_keras: 0.9095\n",
      "\n",
      "Epoch 00007: val_loss improved from 0.33287 to 0.28712, saving model to best_model.h5\n",
      "Epoch 8/30\n",
      "100/100 [==============================] - 27s 269ms/step - loss: 0.3328 - get_categorical_accuracy_keras: 0.8955 - val_loss: 0.3076 - val_get_categorical_accuracy_keras: 0.8976\n",
      "\n",
      "Epoch 00008: val_loss did not improve from 0.28712\n",
      "Epoch 9/30\n",
      "100/100 [==============================] - 32s 323ms/step - loss: 0.3091 - get_categorical_accuracy_keras: 0.9032 - val_loss: 0.6191 - val_get_categorical_accuracy_keras: 0.8147\n",
      "\n",
      "Epoch 00009: val_loss did not improve from 0.28712\n",
      "Epoch 10/30\n",
      "100/100 [==============================] - 30s 301ms/step - loss: 0.3131 - get_categorical_accuracy_keras: 0.9007 - val_loss: 0.2691 - val_get_categorical_accuracy_keras: 0.9030\n",
      "\n",
      "Epoch 00010: val_loss improved from 0.28712 to 0.26910, saving model to best_model.h5\n",
      "Epoch 11/30\n",
      "100/100 [==============================] - 29s 293ms/step - loss: 0.2813 - get_categorical_accuracy_keras: 0.9067 - val_loss: 0.4093 - val_get_categorical_accuracy_keras: 0.8772\n",
      "\n",
      "Epoch 00011: val_loss did not improve from 0.26910\n",
      "Epoch 12/30\n",
      "100/100 [==============================] - 40s 401ms/step - loss: 0.2970 - get_categorical_accuracy_keras: 0.9029 - val_loss: 0.3149 - val_get_categorical_accuracy_keras: 0.8998\n",
      "\n",
      "Epoch 00012: val_loss did not improve from 0.26910\n",
      "Epoch 13/30\n",
      "100/100 [==============================] - 36s 356ms/step - loss: 0.2914 - get_categorical_accuracy_keras: 0.9043 - val_loss: 0.2449 - val_get_categorical_accuracy_keras: 0.9213\n",
      "\n",
      "Epoch 00013: val_loss improved from 0.26910 to 0.24487, saving model to best_model.h5\n",
      "Epoch 14/30\n",
      "100/100 [==============================] - 33s 333ms/step - loss: 0.2339 - get_categorical_accuracy_keras: 0.9175 - val_loss: 0.3072 - val_get_categorical_accuracy_keras: 0.9138\n",
      "\n",
      "Epoch 00014: val_loss did not improve from 0.24487\n",
      "Epoch 15/30\n",
      "100/100 [==============================] - 30s 297ms/step - loss: 0.2638 - get_categorical_accuracy_keras: 0.9127 - val_loss: 0.3027 - val_get_categorical_accuracy_keras: 0.9138\n",
      "\n",
      "Epoch 00015: val_loss did not improve from 0.24487\n",
      "Epoch 16/30\n",
      "100/100 [==============================] - 35s 349ms/step - loss: 0.2532 - get_categorical_accuracy_keras: 0.9124 - val_loss: 0.2565 - val_get_categorical_accuracy_keras: 0.9170\n",
      "\n",
      "Epoch 00016: val_loss did not improve from 0.24487\n",
      "Epoch 17/30\n",
      "100/100 [==============================] - 44s 441ms/step - loss: 0.2672 - get_categorical_accuracy_keras: 0.9141 - val_loss: 0.2468 - val_get_categorical_accuracy_keras: 0.9170\n",
      "\n",
      "Epoch 00017: val_loss did not improve from 0.24487\n",
      "Epoch 18/30\n",
      "100/100 [==============================] - 37s 369ms/step - loss: 0.2351 - get_categorical_accuracy_keras: 0.9228 - val_loss: 0.4386 - val_get_categorical_accuracy_keras: 0.8405\n",
      "\n",
      "Epoch 00018: val_loss did not improve from 0.24487\n",
      "Epoch 19/30\n",
      "100/100 [==============================] - 33s 334ms/step - loss: 0.2555 - get_categorical_accuracy_keras: 0.9127 - val_loss: 0.2363 - val_get_categorical_accuracy_keras: 0.9278\n",
      "\n",
      "Epoch 00019: val_loss improved from 0.24487 to 0.23633, saving model to best_model.h5\n",
      "Epoch 20/30\n",
      "100/100 [==============================] - 30s 298ms/step - loss: 0.2602 - get_categorical_accuracy_keras: 0.9146 - val_loss: 0.2100 - val_get_categorical_accuracy_keras: 0.9235\n",
      "\n",
      "Epoch 00020: val_loss improved from 0.23633 to 0.21003, saving model to best_model.h5\n",
      "Epoch 21/30\n",
      "100/100 [==============================] - 33s 332ms/step - loss: 0.2155 - get_categorical_accuracy_keras: 0.9264 - val_loss: 0.1991 - val_get_categorical_accuracy_keras: 0.9364\n",
      "\n",
      "Epoch 00021: val_loss improved from 0.21003 to 0.19910, saving model to best_model.h5\n",
      "Epoch 22/30\n",
      "100/100 [==============================] - 34s 337ms/step - loss: 0.2468 - get_categorical_accuracy_keras: 0.9191 - val_loss: 0.3026 - val_get_categorical_accuracy_keras: 0.9106\n",
      "\n",
      "Epoch 00022: val_loss did not improve from 0.19910\n",
      "Epoch 23/30\n",
      "100/100 [==============================] - 30s 299ms/step - loss: 0.2109 - get_categorical_accuracy_keras: 0.9250 - val_loss: 0.1901 - val_get_categorical_accuracy_keras: 0.9310\n",
      "\n",
      "Epoch 00023: val_loss improved from 0.19910 to 0.19012, saving model to best_model.h5\n",
      "Epoch 24/30\n",
      "100/100 [==============================] - 29s 291ms/step - loss: 0.2204 - get_categorical_accuracy_keras: 0.9257 - val_loss: 0.2502 - val_get_categorical_accuracy_keras: 0.9159\n",
      "\n",
      "Epoch 00024: val_loss did not improve from 0.19012\n",
      "Epoch 25/30\n",
      "100/100 [==============================] - 27s 270ms/step - loss: 0.2189 - get_categorical_accuracy_keras: 0.9270 - val_loss: 0.1854 - val_get_categorical_accuracy_keras: 0.9364\n",
      "\n",
      "Epoch 00025: val_loss improved from 0.19012 to 0.18543, saving model to best_model.h5\n",
      "Epoch 26/30\n",
      "100/100 [==============================] - 32s 323ms/step - loss: 0.2261 - get_categorical_accuracy_keras: 0.9271 - val_loss: 0.2041 - val_get_categorical_accuracy_keras: 0.9343\n",
      "\n",
      "Epoch 00026: val_loss did not improve from 0.18543\n",
      "Epoch 27/30\n",
      "100/100 [==============================] - 31s 307ms/step - loss: 0.2223 - get_categorical_accuracy_keras: 0.9303 - val_loss: 0.2234 - val_get_categorical_accuracy_keras: 0.9246\n",
      "\n",
      "Epoch 00027: val_loss did not improve from 0.18543\n",
      "Epoch 28/30\n",
      "100/100 [==============================] - 29s 293ms/step - loss: 0.2269 - get_categorical_accuracy_keras: 0.9255 - val_loss: 0.2114 - val_get_categorical_accuracy_keras: 0.9386\n",
      "\n",
      "Epoch 00028: val_loss did not improve from 0.18543\n",
      "Epoch 29/30\n",
      "100/100 [==============================] - 28s 285ms/step - loss: 0.1956 - get_categorical_accuracy_keras: 0.9320 - val_loss: 0.2155 - val_get_categorical_accuracy_keras: 0.9235\n",
      "\n",
      "Epoch 00029: val_loss did not improve from 0.18543\n",
      "Epoch 30/30\n",
      "100/100 [==============================] - 29s 292ms/step - loss: 0.2086 - get_categorical_accuracy_keras: 0.9305 - val_loss: 0.6483 - val_get_categorical_accuracy_keras: 0.8125\n",
      "\n",
      "Epoch 00030: val_loss did not improve from 0.18543\n"
     ]
    }
   ],
   "source": [
    "from keras import backend as K\n",
    "\n",
    "generator = ImageDataGenerator(\n",
    "        featurewise_center=False,  # set input mean to 0 over the dataset\n",
    "        samplewise_center=False,  # set each sample mean to 0\n",
    "        featurewise_std_normalization=False,  # divide inputs by std of the dataset\n",
    "        samplewise_std_normalization=False,  # divide each input by its std\n",
    "        zca_whitening=False,  # apply ZCA whitening\n",
    "        rotation_range=180,  # randomly rotate images in the range (degrees, 0 to 180)\n",
    "        zoom_range = 0.1, # Randomly zoom image \n",
    "        width_shift_range=0.1,  # randomly shift images horizontally (fraction of total width)\n",
    "        height_shift_range=0.1,  # randomly shift images vertically (fraction of total height)\n",
    "        horizontal_flip=True,  # randomly flip images\n",
    "        vertical_flip=True)  # randomly flip images\n",
    "generator.fit(train_data)\n",
    "\n",
    "# Split train data to features and labels\n",
    "train_data, train_data_val, train_labels, train_labels_val = train_test_split(train_data, \n",
    "                                                                              train_labels,\n",
    "                                                                              test_size=0.1)  \n",
    "# Build and train CNN model\n",
    "model = Sequential()\n",
    "model.add(Conv2D(6, kernel_size=3, input_shape=(img_width, img_height,3), activation='relu'))\n",
    "model.add(MaxPool2D(2))\n",
    "model.add(Conv2D(12, kernel_size=3, activation='relu'))\n",
    "model.add(Flatten())\n",
    "model.add(Dense(units=7))\n",
    "model.add(Activation(tf.nn.softmax))\n",
    "model.compile(optimizer='rmsprop', loss='categorical_crossentropy', metrics=[get_categorical_accuracy_keras])\n",
    "\n",
    "# We'll stop training if no improvement after some epochs\n",
    "earlystopper = EarlyStopping(monitor='val_loss', patience=10, verbose=1)\n",
    "# Save the best model during the traning\n",
    "checkpointer = ModelCheckpoint('best_model.h5', monitor='val_loss', verbose=1, save_best_only=True, save_weights_only=True)\n",
    "\n",
    "# Train\n",
    "training = model.fit_generator(generator.flow(train_data,train_labels, batch_size=100),\n",
    "                               epochs = 30,\n",
    "                               validation_data=(train_data_val, train_labels_val),\n",
    "                               steps_per_epoch=100,  # batch_size\n",
    "                               callbacks=[earlystopper, checkpointer])\n",
    "\n",
    "# Load the best model\n",
    "model.load_weights('best_model.h5')"
   ]
  },
  {
   "cell_type": "code",
   "execution_count": 11,
   "metadata": {},
   "outputs": [
    {
     "data": {
      "text/plain": [
       "7"
      ]
     },
     "execution_count": 11,
     "metadata": {},
     "output_type": "execute_result"
    }
   ],
   "source": [
    "train_labels.columns.size"
   ]
  },
  {
   "cell_type": "code",
   "execution_count": null,
   "metadata": {},
   "outputs": [],
   "source": []
  },
  {
   "cell_type": "code",
   "execution_count": null,
   "metadata": {},
   "outputs": [],
   "source": []
  },
  {
   "cell_type": "code",
   "execution_count": null,
   "metadata": {},
   "outputs": [],
   "source": []
  }
 ],
 "metadata": {
  "kernelspec": {
   "display_name": "Python 3",
   "language": "python",
   "name": "python3"
  },
  "language_info": {
   "codemirror_mode": {
    "name": "ipython",
    "version": 3
   },
   "file_extension": ".py",
   "mimetype": "text/x-python",
   "name": "python",
   "nbconvert_exporter": "python",
   "pygments_lexer": "ipython3",
   "version": "3.7.0"
  }
 },
 "nbformat": 4,
 "nbformat_minor": 2
}
